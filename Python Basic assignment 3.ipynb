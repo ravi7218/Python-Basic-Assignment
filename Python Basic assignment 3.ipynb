{
 "cells": [
  {
   "cell_type": "code",
   "execution_count": 1,
   "id": "585faf5c",
   "metadata": {},
   "outputs": [],
   "source": [
    "#Q1 Why are functions advantageous to have in your programs"
   ]
  },
  {
   "cell_type": "code",
   "execution_count": 3,
   "id": "ede85c27",
   "metadata": {},
   "outputs": [],
   "source": [
    "#  Increase modularity\n",
    "#  Increase code reusibility\n",
    "#  Reduce amount of code"
   ]
  },
  {
   "cell_type": "code",
   "execution_count": null,
   "id": "f8ac1b76",
   "metadata": {},
   "outputs": [],
   "source": []
  },
  {
   "cell_type": "code",
   "execution_count": 4,
   "id": "f727965b",
   "metadata": {},
   "outputs": [],
   "source": [
    "#Q2  When does the code in a function run: when it's specified or when it's called?"
   ]
  },
  {
   "cell_type": "code",
   "execution_count": 5,
   "id": "b48b1cdf",
   "metadata": {},
   "outputs": [],
   "source": [
    "# The function run(or execute) when it is called. When function is called the control flow which go to first line of code present inside the function.\n",
    "\n"
   ]
  },
  {
   "cell_type": "code",
   "execution_count": null,
   "id": "bf61f89e",
   "metadata": {},
   "outputs": [],
   "source": []
  },
  {
   "cell_type": "code",
   "execution_count": 6,
   "id": "6fe59be4",
   "metadata": {},
   "outputs": [],
   "source": [
    "#Q3 What statement creates a function"
   ]
  },
  {
   "cell_type": "code",
   "execution_count": 7,
   "id": "189f7fc2",
   "metadata": {},
   "outputs": [],
   "source": [
    "# def(keyword) followed by function_name then parentheses.\n",
    "# def function_name():"
   ]
  },
  {
   "cell_type": "code",
   "execution_count": 8,
   "id": "1a547f9e",
   "metadata": {},
   "outputs": [],
   "source": [
    "def function():\n",
    "    pass"
   ]
  },
  {
   "cell_type": "code",
   "execution_count": null,
   "id": "322dc636",
   "metadata": {},
   "outputs": [],
   "source": []
  },
  {
   "cell_type": "code",
   "execution_count": 9,
   "id": "a9132fcb",
   "metadata": {},
   "outputs": [],
   "source": [
    "#Q4  What is the difference between a function and a function call"
   ]
  },
  {
   "cell_type": "code",
   "execution_count": 10,
   "id": "22ce2765",
   "metadata": {},
   "outputs": [],
   "source": [
    "# Function: Function is set of codes which produce some result. Function is useless unless it is invoked or called.\n",
    "#  Function Call: Function call is used to invoke or execute set of codes present inside the function"
   ]
  },
  {
   "cell_type": "code",
   "execution_count": 11,
   "id": "d44528b6",
   "metadata": {},
   "outputs": [
    {
     "data": {
      "text/plain": [
       "'Inside the function 4'"
      ]
     },
     "execution_count": 11,
     "metadata": {},
     "output_type": "execute_result"
    }
   ],
   "source": [
    "def function4():        # Function\n",
    "    return \"Inside the function 4\"\n",
    "\n",
    "function4()             # Function call"
   ]
  },
  {
   "cell_type": "code",
   "execution_count": null,
   "id": "8f2e8df0",
   "metadata": {},
   "outputs": [],
   "source": []
  },
  {
   "cell_type": "code",
   "execution_count": 12,
   "id": "f8e7bf4d",
   "metadata": {},
   "outputs": [],
   "source": [
    "#Q5 How many global scopes are there in a Python program? How many local scopes?"
   ]
  },
  {
   "cell_type": "code",
   "execution_count": 13,
   "id": "c6188bef",
   "metadata": {},
   "outputs": [],
   "source": [
    "# There are 1 global scopes and 1 local scope in the python program"
   ]
  },
  {
   "cell_type": "code",
   "execution_count": null,
   "id": "4b293fd0",
   "metadata": {},
   "outputs": [],
   "source": []
  },
  {
   "cell_type": "code",
   "execution_count": 14,
   "id": "698e9695",
   "metadata": {},
   "outputs": [],
   "source": [
    "#Q6  What happens to variables in a local scope when the function call returns?"
   ]
  },
  {
   "cell_type": "code",
   "execution_count": 15,
   "id": "ce2025b1",
   "metadata": {},
   "outputs": [],
   "source": [
    "# The local variables are destroyed when function call returns."
   ]
  },
  {
   "cell_type": "code",
   "execution_count": null,
   "id": "9ad08528",
   "metadata": {},
   "outputs": [],
   "source": []
  },
  {
   "cell_type": "code",
   "execution_count": 16,
   "id": "c107e34f",
   "metadata": {},
   "outputs": [],
   "source": [
    "#Q7  What is the concept of a return value? Is it possible to have a return value in an expression?"
   ]
  },
  {
   "cell_type": "code",
   "execution_count": 17,
   "id": "028d6060",
   "metadata": {},
   "outputs": [],
   "source": [
    "# Return value is value, varible or expression which a function can return.\n",
    "# Yes function return value can be an expression"
   ]
  },
  {
   "cell_type": "code",
   "execution_count": 18,
   "id": "59d61f4a",
   "metadata": {},
   "outputs": [
    {
     "data": {
      "text/plain": [
       "40"
      ]
     },
     "execution_count": 18,
     "metadata": {},
     "output_type": "execute_result"
    }
   ],
   "source": [
    "def function7(a,b):\n",
    "    return a+b+10  ## Returning the expression\n",
    "\n",
    "function7(10, 20)"
   ]
  },
  {
   "cell_type": "code",
   "execution_count": null,
   "id": "335e5a76",
   "metadata": {},
   "outputs": [],
   "source": []
  },
  {
   "cell_type": "code",
   "execution_count": 19,
   "id": "cfeeb764",
   "metadata": {},
   "outputs": [],
   "source": [
    "# Q8  If a function does not have a return statement, what is the return value of a call to that function?"
   ]
  },
  {
   "cell_type": "code",
   "execution_count": 20,
   "id": "89b996fc",
   "metadata": {},
   "outputs": [],
   "source": [
    "# If a function does not have a return statement that means the function is not returning any values.\n",
    "# In this case after function is executed completly it will return a NoneType."
   ]
  },
  {
   "cell_type": "code",
   "execution_count": 21,
   "id": "b680fc54",
   "metadata": {},
   "outputs": [
    {
     "data": {
      "text/plain": [
       "NoneType"
      ]
     },
     "execution_count": 21,
     "metadata": {},
     "output_type": "execute_result"
    }
   ],
   "source": [
    "def function8():\n",
    "    a = 10\n",
    "    b = 80\n",
    "    \n",
    "type(function8())"
   ]
  },
  {
   "cell_type": "code",
   "execution_count": 22,
   "id": "212076d5",
   "metadata": {},
   "outputs": [],
   "source": [
    "#Q 9 How do you make a function variable refer to the global variable"
   ]
  },
  {
   "cell_type": "code",
   "execution_count": 23,
   "id": "a1f75f89",
   "metadata": {},
   "outputs": [],
   "source": [
    "# This can be achieved by using global keyword to redefine the variable and make the changes of variable as global change."
   ]
  },
  {
   "cell_type": "code",
   "execution_count": 24,
   "id": "37f6b14c",
   "metadata": {},
   "outputs": [
    {
     "name": "stdout",
     "output_type": "stream",
     "text": [
      "0\n",
      "10\n"
     ]
    }
   ],
   "source": [
    "var1 = 0\n",
    "def function9():\n",
    "    global var1\n",
    "    var1 = 10\n",
    "    \n",
    "print(var1)\n",
    "function9()\n",
    "print(var1)"
   ]
  },
  {
   "cell_type": "code",
   "execution_count": 25,
   "id": "63ee40e7",
   "metadata": {},
   "outputs": [],
   "source": [
    "# Q10  What is the data type of None"
   ]
  },
  {
   "cell_type": "code",
   "execution_count": 26,
   "id": "be215cfd",
   "metadata": {},
   "outputs": [],
   "source": [
    "# None data type is a null variable or null object. The null object is a data type of class NoneType"
   ]
  },
  {
   "cell_type": "code",
   "execution_count": 27,
   "id": "52e2bf1d",
   "metadata": {},
   "outputs": [],
   "source": [
    "# Q11 What does the sentence import areallyourpetsnamederic do"
   ]
  },
  {
   "cell_type": "code",
   "execution_count": 28,
   "id": "2582b5c5",
   "metadata": {},
   "outputs": [],
   "source": [
    "# The statement \"import areallyourpetsnamederic\" will import the module or package areallyourpetsnamederic."
   ]
  },
  {
   "cell_type": "code",
   "execution_count": null,
   "id": "3a1da954",
   "metadata": {},
   "outputs": [],
   "source": []
  },
  {
   "cell_type": "code",
   "execution_count": 29,
   "id": "4a45adb7",
   "metadata": {},
   "outputs": [],
   "source": [
    "# Q12 If you had a bacon() feature in a spam module, what would you call it after importing spam?"
   ]
  },
  {
   "cell_type": "code",
   "execution_count": 30,
   "id": "ed9283ac",
   "metadata": {},
   "outputs": [],
   "source": [
    "# # import spam\n",
    "# spam.bacon()"
   ]
  },
  {
   "cell_type": "code",
   "execution_count": null,
   "id": "bf1e645c",
   "metadata": {},
   "outputs": [],
   "source": []
  },
  {
   "cell_type": "code",
   "execution_count": 31,
   "id": "ec0ee27f",
   "metadata": {},
   "outputs": [],
   "source": [
    "#Q14 What is the purpose of the try clause? What is the purpose of the except clause?"
   ]
  },
  {
   "cell_type": "code",
   "execution_count": null,
   "id": "a5c6d51f",
   "metadata": {},
   "outputs": [],
   "source": [
    "# Together try and except block is used to save programme from crashing when an error is encountered.\n",
    "# Try: Try block is used for any suspicious code which can throw a runtime error.\n",
    "# Except: Except block is used to catch error if any encountered inside try block.\n"
   ]
  }
 ],
 "metadata": {
  "kernelspec": {
   "display_name": "Python 3 (ipykernel)",
   "language": "python",
   "name": "python3"
  },
  "language_info": {
   "codemirror_mode": {
    "name": "ipython",
    "version": 3
   },
   "file_extension": ".py",
   "mimetype": "text/x-python",
   "name": "python",
   "nbconvert_exporter": "python",
   "pygments_lexer": "ipython3",
   "version": "3.9.12"
  }
 },
 "nbformat": 4,
 "nbformat_minor": 5
}
