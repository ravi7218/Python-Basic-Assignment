{
 "cells": [
  {
   "cell_type": "code",
   "execution_count": 1,
   "id": "95b04960",
   "metadata": {},
   "outputs": [],
   "source": [
    "# Q1 In the below elements which of them are values or an expression? eg:- values can be integer or string and expressions will be mathematical operators.\n",
    "#   *            : Expression\n",
    "#  'hello'      : Value \n",
    "#  -87.8        : Value \n",
    "#  -            : Expression\n",
    "#  /            : Expression\n",
    "#  6            : Value "
   ]
  },
  {
   "cell_type": "code",
   "execution_count": 2,
   "id": "2d91aa03",
   "metadata": {},
   "outputs": [],
   "source": [
    "# Q2 What is the difference between string and variable"
   ]
  },
  {
   "cell_type": "code",
   "execution_count": 3,
   "id": "dd74248c",
   "metadata": {},
   "outputs": [],
   "source": [
    "# string is usually conains words and which are enclosed in \"\". eg.\"hello\"\n",
    "# variable which can store a values "
   ]
  },
  {
   "cell_type": "code",
   "execution_count": 4,
   "id": "216aadc1",
   "metadata": {},
   "outputs": [],
   "source": [
    "# Q3  Describe three different data types\n",
    "\n",
    "# int = integer datatype is used to represent the integer values \n",
    "\n",
    "# float = it represent the real numbers \n",
    "\n",
    "# boolean = it contains only True and Flase values\n",
    "\n",
    "# string = it is used to represent the sequence of characters.\n"
   ]
  },
  {
   "cell_type": "code",
   "execution_count": 5,
   "id": "fb6eef5c",
   "metadata": {},
   "outputs": [],
   "source": [
    "# Q4\n",
    "\n"
   ]
  },
  {
   "cell_type": "code",
   "execution_count": 6,
   "id": "702ab590",
   "metadata": {},
   "outputs": [],
   "source": [
    "# Q5 This assignment statements, like spam = 10. What is the difference between an expression and a statement?\n",
    "\n",
    "\n",
    "# Assignment statement : It is the statement where some value or expression is assigned to a variable or constant.\n",
    "# Difference : The difference is that expression itself is assigned to a variable or constant.\n",
    "\n"
   ]
  },
  {
   "cell_type": "code",
   "execution_count": 7,
   "id": "aa44d8da",
   "metadata": {},
   "outputs": [
    {
     "data": {
      "text/plain": [
       "23"
      ]
     },
     "execution_count": 7,
     "metadata": {},
     "output_type": "execute_result"
    }
   ],
   "source": [
    "# Q6 After running the following code, what does the variable bacon contain?\n",
    "\n",
    "bacon = 22\n",
    "bacon +1"
   ]
  },
  {
   "cell_type": "code",
   "execution_count": 10,
   "id": "14f4b6cb",
   "metadata": {},
   "outputs": [
    {
     "data": {
      "text/plain": [
       "'spamspamspam'"
      ]
     },
     "execution_count": 10,
     "metadata": {},
     "output_type": "execute_result"
    }
   ],
   "source": [
    "# Q7 What should the values of the following two terms be?\n",
    "\n",
    "'spam' + 'spamspam'\n"
   ]
  },
  {
   "cell_type": "code",
   "execution_count": 11,
   "id": "390cbd95",
   "metadata": {},
   "outputs": [
    {
     "data": {
      "text/plain": [
       "'spamspamspam'"
      ]
     },
     "execution_count": 11,
     "metadata": {},
     "output_type": "execute_result"
    }
   ],
   "source": [
    "'spam' * 3"
   ]
  },
  {
   "cell_type": "code",
   "execution_count": 12,
   "id": "0cb2c37f",
   "metadata": {},
   "outputs": [],
   "source": [
    "# Q8 Why is eggs a valid variable name while 100 is invalid\n",
    "\n",
    "#  Because the variable declartion in python is that the variable name must start with a alphabate or underscore '_'"
   ]
  },
  {
   "cell_type": "code",
   "execution_count": 13,
   "id": "e6461555",
   "metadata": {},
   "outputs": [],
   "source": [
    "#Q9  What three functions can be used to get the integer, floating-point number, or string version of a value?\n",
    "\n",
    "\n"
   ]
  },
  {
   "cell_type": "code",
   "execution_count": 14,
   "id": "f54e1f08",
   "metadata": {},
   "outputs": [
    {
     "data": {
      "text/plain": [
       "2133"
      ]
     },
     "execution_count": 14,
     "metadata": {},
     "output_type": "execute_result"
    }
   ],
   "source": [
    "int(2133.323)"
   ]
  },
  {
   "cell_type": "code",
   "execution_count": 15,
   "id": "2ed19341",
   "metadata": {},
   "outputs": [
    {
     "data": {
      "text/plain": [
       "231.0"
      ]
     },
     "execution_count": 15,
     "metadata": {},
     "output_type": "execute_result"
    }
   ],
   "source": [
    "float(231)"
   ]
  },
  {
   "cell_type": "code",
   "execution_count": 16,
   "id": "eb1cd933",
   "metadata": {},
   "outputs": [
    {
     "data": {
      "text/plain": [
       "'32'"
      ]
     },
     "execution_count": 16,
     "metadata": {},
     "output_type": "execute_result"
    }
   ],
   "source": [
    "str(32)"
   ]
  },
  {
   "cell_type": "code",
   "execution_count": 17,
   "id": "f33c07cd",
   "metadata": {},
   "outputs": [
    {
     "data": {
      "text/plain": [
       "'(343+7j)'"
      ]
     },
     "execution_count": 17,
     "metadata": {},
     "output_type": "execute_result"
    }
   ],
   "source": [
    "str(343+7j)"
   ]
  },
  {
   "cell_type": "code",
   "execution_count": 19,
   "id": "cf711dc3",
   "metadata": {},
   "outputs": [],
   "source": [
    "# Q7 Why does this expression cause an error? How can you fix it\n",
    "#  'I have eaten ' + 99 + ' burritos'.\n"
   ]
  },
  {
   "cell_type": "code",
   "execution_count": 20,
   "id": "e471e986",
   "metadata": {},
   "outputs": [
    {
     "ename": "TypeError",
     "evalue": "can only concatenate str (not \"int\") to str",
     "output_type": "error",
     "traceback": [
      "\u001b[1;31m---------------------------------------------------------------------------\u001b[0m",
      "\u001b[1;31mTypeError\u001b[0m                                 Traceback (most recent call last)",
      "Input \u001b[1;32mIn [20]\u001b[0m, in \u001b[0;36m<cell line: 1>\u001b[1;34m()\u001b[0m\n\u001b[1;32m----> 1\u001b[0m \u001b[38;5;124;43m'\u001b[39;49m\u001b[38;5;124;43mi have eaten\u001b[39;49m\u001b[38;5;124;43m'\u001b[39;49m\u001b[43m \u001b[49m\u001b[38;5;241;43m+\u001b[39;49m\u001b[43m \u001b[49m\u001b[38;5;241;43m99\u001b[39;49m \u001b[38;5;241m+\u001b[39m \u001b[38;5;124m'\u001b[39m\u001b[38;5;124mburritos\u001b[39m\u001b[38;5;124m'\u001b[39m\n",
      "\u001b[1;31mTypeError\u001b[0m: can only concatenate str (not \"int\") to str"
     ]
    }
   ],
   "source": [
    "'i have eaten' + 99 + 'burritos'"
   ]
  },
  {
   "cell_type": "code",
   "execution_count": 23,
   "id": "4cbf52d5",
   "metadata": {},
   "outputs": [
    {
     "data": {
      "text/plain": [
       "'i have eaten 99 burritos'"
      ]
     },
     "execution_count": 23,
     "metadata": {},
     "output_type": "execute_result"
    }
   ],
   "source": [
    "'i have eaten ' + '99' + ' burritos'"
   ]
  },
  {
   "cell_type": "code",
   "execution_count": null,
   "id": "132db584",
   "metadata": {},
   "outputs": [],
   "source": []
  }
 ],
 "metadata": {
  "kernelspec": {
   "display_name": "Python 3 (ipykernel)",
   "language": "python",
   "name": "python3"
  },
  "language_info": {
   "codemirror_mode": {
    "name": "ipython",
    "version": 3
   },
   "file_extension": ".py",
   "mimetype": "text/x-python",
   "name": "python",
   "nbconvert_exporter": "python",
   "pygments_lexer": "ipython3",
   "version": "3.9.12"
  }
 },
 "nbformat": 4,
 "nbformat_minor": 5
}
