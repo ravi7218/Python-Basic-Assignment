{
 "cells": [
  {
   "cell_type": "code",
   "execution_count": 1,
   "id": "8a003ed7",
   "metadata": {},
   "outputs": [],
   "source": [
    "# Q1 What are the two values of the Boolean data type? How do you write them"
   ]
  },
  {
   "cell_type": "code",
   "execution_count": 2,
   "id": "1a130e92",
   "metadata": {},
   "outputs": [],
   "source": [
    "# 1.True \n",
    "# 2.False\n",
    "\n",
    "a = True\n",
    "b = False"
   ]
  },
  {
   "cell_type": "code",
   "execution_count": 3,
   "id": "6182b2fe",
   "metadata": {},
   "outputs": [],
   "source": [
    "#Q2 What are the three different types of Boolean operators\n",
    "\n",
    "#  1. AND 2.OR 3.NOT"
   ]
  },
  {
   "cell_type": "code",
   "execution_count": 4,
   "id": "54787890",
   "metadata": {},
   "outputs": [],
   "source": [
    "#Q3  Make a list of each Boolean operator's truth tables\n",
    "#(i.e. every possible combination of Boolean values for the operator and what it evaluate )."
   ]
  },
  {
   "cell_type": "code",
   "execution_count": 5,
   "id": "d76bba24",
   "metadata": {},
   "outputs": [
    {
     "data": {
      "text/plain": [
       "[1, 0, 0, 0]"
      ]
     },
     "execution_count": 5,
     "metadata": {},
     "output_type": "execute_result"
    }
   ],
   "source": [
    "list_AND = [1 and 1, 1 and 0, 0 and 1, 0 and 0]\n",
    "list_AND"
   ]
  },
  {
   "cell_type": "code",
   "execution_count": 6,
   "id": "5f2d2c1b",
   "metadata": {},
   "outputs": [
    {
     "data": {
      "text/plain": [
       "[1, 1, 1, 0]"
      ]
     },
     "execution_count": 6,
     "metadata": {},
     "output_type": "execute_result"
    }
   ],
   "source": [
    "list_OR = [1 or 1, 1 or 0, 0 or 1, 0 or 0]\n",
    "list_OR"
   ]
  },
  {
   "cell_type": "code",
   "execution_count": 7,
   "id": "b9447121",
   "metadata": {},
   "outputs": [
    {
     "data": {
      "text/plain": [
       "[False, True]"
      ]
     },
     "execution_count": 7,
     "metadata": {},
     "output_type": "execute_result"
    }
   ],
   "source": [
    "list_NOT = [not 1, not 0]\n",
    "list_NOT"
   ]
  },
  {
   "cell_type": "code",
   "execution_count": 8,
   "id": "5bd39408",
   "metadata": {},
   "outputs": [],
   "source": [
    "# Q4  What are the values of the following expressions?\n",
    "#  (5 > 4) and (3 == 5)\n",
    "#  not (5 > 4)\n",
    "#  (5 > 4) or (3 == 5)\n",
    "#  not ((5 > 4) or (3 == 5))\n",
    "#  (True and True) and (True == False)\n",
    "#  (not False) or (not True)"
   ]
  },
  {
   "cell_type": "code",
   "execution_count": 9,
   "id": "d4e28eaa",
   "metadata": {},
   "outputs": [
    {
     "name": "stdout",
     "output_type": "stream",
     "text": [
      "False False True False False True\n"
     ]
    }
   ],
   "source": [
    "print((5 > 4) and (3 == 5),\n",
    "      not (5 > 4),\n",
    "      (5 > 4) or (3 == 5),\n",
    "      not ((5 > 4) or (3 == 5)),\n",
    "      (True and True) and (True == False),\n",
    "      (not False) or (not True)\n",
    "     )"
   ]
  },
  {
   "cell_type": "code",
   "execution_count": 10,
   "id": "719fae76",
   "metadata": {},
   "outputs": [],
   "source": [
    "#Q5 What are the six comparison operators\n",
    "\n",
    "#  == : is equal to\n",
    "#  != : is not equal to\n",
    "#  > : is greater than\n",
    "#  >= : is greater than or equal to\n",
    "#  < : is less than\n",
    "#  <= : is less than or equal to"
   ]
  },
  {
   "cell_type": "code",
   "execution_count": 11,
   "id": "f894a32a",
   "metadata": {},
   "outputs": [],
   "source": [
    "# Q6 How do you tell the difference between the equal to and assignment operators?Describe a condition and when you would use one.\n",
    "\n",
    "#  ' = ' : single equals to sign is used for the assignment operation.\n",
    "#  ' == ' : double equals to sign is used for the equal to condition check\n"
   ]
  },
  {
   "cell_type": "code",
   "execution_count": 13,
   "id": "a648fd49",
   "metadata": {},
   "outputs": [],
   "source": [
    "#Q7   Identify the three blocks in this code:\n",
    "\n",
    "# spam = 0 <br>\n",
    "# if spam == 10: <br>\n",
    "# print('eggs')<br>\n",
    "# if spam > 5:<br>\n",
    "#  print('bacon')<br>\n",
    "#  else:<br>\n",
    "# print('ham')<br>\n",
    "# print('spam')<br>\n",
    "# print('spam')"
   ]
  },
  {
   "cell_type": "code",
   "execution_count": 14,
   "id": "a73fb0cf",
   "metadata": {},
   "outputs": [
    {
     "name": "stdout",
     "output_type": "stream",
     "text": [
      "ham\n",
      "spam\n",
      "spam\n"
     ]
    }
   ],
   "source": [
    "spam = 0\n",
    "\n",
    "if spam == 10:  ## Block 1\n",
    "    print('eggs')\n",
    "    \n",
    "if spam > 5:    ## Block 2\n",
    "    print('bacon')\n",
    "else:           ## Block 3\n",
    "    print('ham')\n",
    "    \n",
    "print('spam')\n",
    "print('spam')"
   ]
  },
  {
   "cell_type": "code",
   "execution_count": 15,
   "id": "f7ab6aee",
   "metadata": {},
   "outputs": [],
   "source": [
    "# Q8 Write code that prints Hello if 1 is stored in spam, prints Howdy if 2 is stored in spam, and prints Greetings! if anything else is stored in spam.\n"
   ]
  },
  {
   "cell_type": "code",
   "execution_count": 16,
   "id": "a9e924c6",
   "metadata": {},
   "outputs": [
    {
     "name": "stdout",
     "output_type": "stream",
     "text": [
      "Hello\n"
     ]
    }
   ],
   "source": [
    "spam = 1\n",
    "\n",
    "if spam == 1:\n",
    "    print('Hello')\n",
    "elif spam == 2:\n",
    "    print('Howdy')\n",
    "else:\n",
    "    print('Greetings!')"
   ]
  },
  {
   "cell_type": "code",
   "execution_count": 17,
   "id": "c20954ec",
   "metadata": {},
   "outputs": [],
   "source": [
    "# Q9 If your programme is stuck in an endless loop, what keys you’ll press\n",
    "\n",
    "# Press Ctrl + C on the command line.\n",
    "# Restart the kernal\n"
   ]
  },
  {
   "cell_type": "code",
   "execution_count": 18,
   "id": "4bc83858",
   "metadata": {},
   "outputs": [],
   "source": [
    "# Q10  How can you tell the difference between break and continue\n",
    "\n",
    "# Break: It is used to break the loop and exit from the loop\n",
    "# continue: It is used to skip the current iteration of the loop and continue with the next iteration."
   ]
  },
  {
   "cell_type": "code",
   "execution_count": 19,
   "id": "1d8294bf",
   "metadata": {},
   "outputs": [],
   "source": [
    "# Q11 In a for loop, what is the difference between range(10), range(0, 10), and range(0, 10, 1)?\n"
   ]
  },
  {
   "cell_type": "code",
   "execution_count": 20,
   "id": "5c769eb6",
   "metadata": {},
   "outputs": [
    {
     "name": "stdout",
     "output_type": "stream",
     "text": [
      "0 1 2 3 4 5 6 7 8 9 "
     ]
    }
   ],
   "source": [
    "for i in range(10):\n",
    "    print(i, end = ' ')"
   ]
  },
  {
   "cell_type": "code",
   "execution_count": 21,
   "id": "2b0bbde3",
   "metadata": {},
   "outputs": [
    {
     "name": "stdout",
     "output_type": "stream",
     "text": [
      "0 1 2 3 4 5 6 7 8 9 "
     ]
    }
   ],
   "source": [
    "for i in range(0, 10):\n",
    "    print(i, end = ' ')"
   ]
  },
  {
   "cell_type": "code",
   "execution_count": 22,
   "id": "b64e1090",
   "metadata": {},
   "outputs": [
    {
     "name": "stdout",
     "output_type": "stream",
     "text": [
      "0 1 2 3 4 5 6 7 8 9 "
     ]
    }
   ],
   "source": [
    "for i in range(0, 10, 1):\n",
    "    print(i, end = ' ')"
   ]
  },
  {
   "cell_type": "code",
   "execution_count": null,
   "id": "b47f61cd",
   "metadata": {},
   "outputs": [],
   "source": []
  }
 ],
 "metadata": {
  "kernelspec": {
   "display_name": "Python 3 (ipykernel)",
   "language": "python",
   "name": "python3"
  },
  "language_info": {
   "codemirror_mode": {
    "name": "ipython",
    "version": 3
   },
   "file_extension": ".py",
   "mimetype": "text/x-python",
   "name": "python",
   "nbconvert_exporter": "python",
   "pygments_lexer": "ipython3",
   "version": "3.9.12"
  }
 },
 "nbformat": 4,
 "nbformat_minor": 5
}
